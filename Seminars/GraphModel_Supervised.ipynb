{
 "cells": [
  {
   "cell_type": "markdown",
   "metadata": {},
   "source": [
    "### In this seminar we will get get acquainted with [PyTorch Geometric](https://pytorch-geometric.readthedocs.io/en/latest/). <br> First we look at <u>*NeigborSampler*</u> class and then  train <u>*Graph Attention Network*</u> (GAT, [arXiv:1710.10903](https://arxiv.org/abs/1710.10903)) on CORA dataset, prepared in the previous part."
   ]
  },
  {
   "cell_type": "code",
   "execution_count": 1,
   "metadata": {
    "pycharm": {
     "is_executing": true
    }
   },
   "outputs": [],
   "source": [
    "import numpy as np\n",
    "\n",
    "import torch\n",
    "import torch.nn as nn\n",
    "import torch.nn.functional as F\n",
    "\n",
    "from torch_geometric.data import NeighborSampler, Data\n",
    "from torch_geometric.nn import GATConv"
   ]
  },
  {
   "cell_type": "code",
   "execution_count": 2,
   "metadata": {
    "pycharm": {
     "name": "#%%\n"
    }
   },
   "outputs": [
    {
     "data": {
      "text/plain": [
       "Data(edge_index=[2, 10556], test_mask=[2708], train_mask=[2708], val_mask=[2708], x=[2708, 1433], y=[2708])"
      ]
     },
     "execution_count": 2,
     "metadata": {},
     "output_type": "execute_result"
    }
   ],
   "source": [
    "data = torch.load('cora_dataset.pt')\n",
    "data"
   ]
  },
  {
   "cell_type": "markdown",
   "metadata": {
    "pycharm": {
     "name": "#%% md\n"
    }
   },
   "source": [
    "##### <font color='orange'> edge_index </font>  contains graph connectivity information in COO format - each column represents edge in our graph:"
   ]
  },
  {
   "cell_type": "code",
   "execution_count": 3,
   "metadata": {
    "pycharm": {
     "name": "#%%\n"
    }
   },
   "outputs": [
    {
     "data": {
      "text/plain": [
       "tensor([[   0,    0,    0,  ..., 2707, 2707, 2707],\n",
       "        [ 633, 1862, 2582,  ...,  598, 1473, 2706]])"
      ]
     },
     "execution_count": 3,
     "metadata": {},
     "output_type": "execute_result"
    }
   ],
   "source": [
    "data.edge_index"
   ]
  },
  {
   "cell_type": "markdown",
   "metadata": {
    "pycharm": {
     "name": "#%% md\n"
    }
   },
   "source": [
    "### <u>Lets look closer at <font color='Blue'> NeighborSampler </font> for mini-batch training</u>\n",
    "#### The idea is described in [GraphSAGE paper](https://arxiv.org/abs/1706.02216)"
   ]
  },
  {
   "cell_type": "code",
   "execution_count": 4,
   "metadata": {
    "pycharm": {
     "name": "#%%\n"
    }
   },
   "outputs": [
    {
     "data": {
      "text/plain": [
       "tensor([  0,   1,   2,   3,   4,   5,   6,   7,   8,   9,  10,  11,  12,  13,\n",
       "         14,  15,  16,  17,  18,  19,  20,  21,  22,  23,  24,  25,  26,  27,\n",
       "         28,  29,  30,  31,  32,  33,  34,  35,  36,  37,  38,  39,  40,  41,\n",
       "         42,  43,  44,  45,  46,  47,  48,  49,  50,  51,  52,  53,  54,  55,\n",
       "         56,  57,  58,  59,  60,  61,  62,  63,  64,  65,  66,  67,  68,  69,\n",
       "         70,  71,  72,  73,  74,  75,  76,  77,  78,  79,  80,  81,  82,  83,\n",
       "         84,  85,  86,  87,  88,  89,  90,  91,  92,  93,  94,  95,  96,  97,\n",
       "         98,  99, 100, 101, 102, 103, 104, 105, 106, 107, 108, 109, 110, 111,\n",
       "        112, 113, 114, 115, 116, 117, 118, 119, 120, 121, 122, 123, 124, 125,\n",
       "        126, 127, 128, 129, 130, 131, 132, 133, 134, 135, 136, 137, 138, 139])"
      ]
     },
     "execution_count": 4,
     "metadata": {},
     "output_type": "execute_result"
    }
   ],
   "source": [
    "# select only train indices\n",
    "train_idx = torch.where(data.train_mask)[0]\n",
    "train_idx"
   ]
  },
  {
   "cell_type": "code",
   "execution_count": 5,
   "metadata": {
    "pycharm": {
     "name": "#%%\n"
    }
   },
   "outputs": [],
   "source": [
    "# len of sizes should match number of message passing layers in NN\n",
    "BATCH_SIZE = 2\n",
    "train_loader = NeighborSampler(edge_index=data.edge_index,\n",
    "                               node_idx=train_idx,\n",
    "                               sizes=[-1, -1],\n",
    "                               batch_size=BATCH_SIZE,\n",
    "                               shuffle=False,\n",
    "                               num_workers=0)"
   ]
  },
  {
   "cell_type": "markdown",
   "metadata": {
    "pycharm": {
     "name": "#%% md\n"
    }
   },
   "source": [
    "#### Lets do 1 iteration. <br> Sampler will return all crucial information for aggregation for 2 first nodes $[0, 1]$ since we set batch_size=2 and shuffle=False."
   ]
  },
  {
   "cell_type": "code",
   "execution_count": 6,
   "metadata": {
    "pycharm": {
     "name": "#%%\n"
    }
   },
   "outputs": [
    {
     "data": {
      "text/plain": [
       "(2,\n",
       " tensor([   0,    1,  633, 1862, 2582,    2,  652,  654, 1701, 1866,  926, 1166,\n",
       "          332, 1454, 1666, 1986,  470]),\n",
       " [EdgeIndex(edge_index=tensor([[ 2,  3,  4,  5,  6,  7,  0,  8,  9,  0,  4,  8, 10,  0,  3, 11,  1, 12,\n",
       "           13, 14, 15,  1, 16,  1],\n",
       "          [ 0,  0,  0,  1,  1,  1,  2,  2,  2,  3,  3,  3,  3,  4,  4,  4,  5,  5,\n",
       "            5,  5,  5,  6,  6,  7]]), e_id=tensor([ 2569,  7565, 10306,     6,  2640,  2643,     0,  6751,  7578,     1,\n",
       "          10308,  6787,  3637,     2,  7568,  4551,     3,  1382,  5774,  6597,\n",
       "           8132,     4,  1932,     5]), size=(17, 8)),\n",
       "  EdgeIndex(edge_index=tensor([[2, 3, 4, 5, 6, 7],\n",
       "          [0, 0, 0, 1, 1, 1]]), e_id=tensor([ 2569,  7565, 10306,     6,  2640,  2643]), size=(8, 2))])"
      ]
     },
     "execution_count": 6,
     "metadata": {},
     "output_type": "execute_result"
    }
   ],
   "source": [
    "first_iter = next(iter(train_loader))\n",
    "first_iter"
   ]
  },
  {
   "cell_type": "markdown",
   "metadata": {
    "pycharm": {
     "name": "#%% md\n"
    }
   },
   "source": [
    "#### Each iteration returns a triplet: <font color='Blue'> (bs, n_id, adjs) </font> <br>\n",
    "- **bs** - batch size\n",
    "- **n_id** - original indices of all nodes involved in computation for current target nodes.\n",
    "- **adjs** - list of tuples **(edge_index, e_id, size)** that represent bipartite graphs for each layers"
   ]
  },
  {
   "cell_type": "code",
   "execution_count": 7,
   "metadata": {
    "pycharm": {
     "name": "#%%\n"
    }
   },
   "outputs": [],
   "source": [
    "# unpack items\n",
    "bs, n_id, adjs = first_iter"
   ]
  },
  {
   "cell_type": "markdown",
   "metadata": {
    "pycharm": {
     "name": "#%% md\n"
    }
   },
   "source": [
    "#### <font color='Blue'>n_id</font> list contains both indices of target nodes $[0, 1]$ and their neighbors $[633, 1862, ..., 470]$. <br> Target nodes are placed at the beginning of the list."
   ]
  },
  {
   "cell_type": "code",
   "execution_count": 8,
   "metadata": {
    "pycharm": {
     "name": "#%%\n"
    }
   },
   "outputs": [
    {
     "name": "stdout",
     "output_type": "stream",
     "text": [
      "17\n"
     ]
    },
    {
     "data": {
      "text/plain": [
       "tensor([   0,    1,  633, 1862, 2582,    2,  652,  654, 1701, 1866,  926, 1166,\n",
       "         332, 1454, 1666, 1986,  470])"
      ]
     },
     "execution_count": 8,
     "metadata": {},
     "output_type": "execute_result"
    }
   ],
   "source": [
    "print(len(n_id))\n",
    "n_id"
   ]
  },
  {
   "cell_type": "markdown",
   "metadata": {
    "pycharm": {
     "name": "#%% md\n"
    }
   },
   "source": [
    "#### <font color='Blue'>adjs</font> consist of triplets. Each triplet contains: <br>\n",
    "- **edge_index** - structure of the [bipartite graph](https://en.wikipedia.org/wiki/Bipartite_graph) corresponding to aggregation from layer $N$ to $N-1$ in **COO** format. <br> **Note**: those are completely *new* graphs so that node indices in  COO edgelists **do not** correspond to original ones. <br>\n",
    "- **e_id** - denotes **id**'s of those edges in the *original* graph.\n",
    "- **size** - shape of the current bipartite graph."
   ]
  },
  {
   "cell_type": "code",
   "execution_count": 9,
   "metadata": {
    "pycharm": {
     "name": "#%%\n"
    }
   },
   "outputs": [
    {
     "data": {
      "text/plain": [
       "[EdgeIndex(edge_index=tensor([[ 2,  3,  4,  5,  6,  7,  0,  8,  9,  0,  4,  8, 10,  0,  3, 11,  1, 12,\n",
       "          13, 14, 15,  1, 16,  1],\n",
       "         [ 0,  0,  0,  1,  1,  1,  2,  2,  2,  3,  3,  3,  3,  4,  4,  4,  5,  5,\n",
       "           5,  5,  5,  6,  6,  7]]), e_id=tensor([ 2569,  7565, 10306,     6,  2640,  2643,     0,  6751,  7578,     1,\n",
       "         10308,  6787,  3637,     2,  7568,  4551,     3,  1382,  5774,  6597,\n",
       "          8132,     4,  1932,     5]), size=(17, 8)),\n",
       " EdgeIndex(edge_index=tensor([[2, 3, 4, 5, 6, 7],\n",
       "         [0, 0, 0, 1, 1, 1]]), e_id=tensor([ 2569,  7565, 10306,     6,  2640,  2643]), size=(8, 2))]"
      ]
     },
     "execution_count": 9,
     "metadata": {},
     "output_type": "execute_result"
    }
   ],
   "source": [
    "adjs"
   ]
  },
  {
   "cell_type": "markdown",
   "metadata": {
    "pycharm": {
     "name": "#%% md\n"
    }
   },
   "source": [
    "#### <u>Lets take a closer look at neighbor aggregation</u>\n",
    "##### pictures  below are taken from [Deep Graph Library](https://docs.dgl.ai/guide/index.html) user guide"
   ]
  },
  {
   "cell_type": "markdown",
   "metadata": {
    "pycharm": {
     "name": "#%% md\n"
    }
   },
   "source": [
    "![title](pictures/MP_layers.png)"
   ]
  },
  {
   "cell_type": "markdown",
   "metadata": {
    "pycharm": {
     "name": "#%% md\n"
    }
   },
   "source": [
    "##### <u>Layer 2 (2-hop)</u>"
   ]
  },
  {
   "cell_type": "markdown",
   "metadata": {},
   "source": [
    "![title](pictures/layer_2.png)"
   ]
  },
  {
   "cell_type": "markdown",
   "metadata": {},
   "source": [
    "##### At layer 2 the goal is to update the states of 1-hop nodes and target node"
   ]
  },
  {
   "cell_type": "code",
   "execution_count": 10,
   "metadata": {
    "pycharm": {
     "name": "#%%\n"
    }
   },
   "outputs": [
    {
     "name": "stdout",
     "output_type": "stream",
     "text": [
      "tensor([[ 2,  0],\n",
      "        [ 3,  0],\n",
      "        [ 4,  0],\n",
      "        [ 5,  1],\n",
      "        [ 6,  1],\n",
      "        [ 7,  1],\n",
      "        [ 0,  2],\n",
      "        [ 8,  2],\n",
      "        [ 9,  2],\n",
      "        [ 0,  3],\n",
      "        [ 4,  3],\n",
      "        [ 8,  3],\n",
      "        [10,  3],\n",
      "        [ 0,  4],\n",
      "        [ 3,  4],\n",
      "        [11,  4],\n",
      "        [ 1,  5],\n",
      "        [12,  5],\n",
      "        [13,  5],\n",
      "        [14,  5],\n",
      "        [15,  5],\n",
      "        [ 1,  6],\n",
      "        [16,  6],\n",
      "        [ 1,  7]])\n"
     ]
    }
   ],
   "source": [
    "# bipartite subgraph structure at layer 2 (2-hop)\n",
    "print(adjs[-2].edge_index.t())"
   ]
  },
  {
   "cell_type": "code",
   "execution_count": 11,
   "metadata": {
    "pycharm": {
     "name": "#%%\n"
    }
   },
   "outputs": [
    {
     "name": "stderr",
     "output_type": "stream",
     "text": [
      "WARNING:root:The number of nodes in your data object can only be inferred by its edge indices, and hence may result in unexpected batch-wise behavior, e.g., in case there exists isolated nodes. Please consider explicitly setting the number of nodes for this data object by assigning it to data.num_nodes.\n"
     ]
    },
    {
     "data": {
      "image/png": "[encoded data removed]",
      "text/plain": [
       "<Figure size 432x288 with 1 Axes>"
      ]
     },
     "metadata": {},
     "output_type": "display_data"
    }
   ],
   "source": [
    "import networkx as nx\n",
    "from torch_geometric.utils.convert import to_networkx\n",
    "G = to_networkx(Data(edge_index=adjs[-2].edge_index))\n",
    "nx.draw_networkx(G)"
   ]
  },
  {
   "cell_type": "code",
   "execution_count": 12,
   "metadata": {
    "pycharm": {
     "name": "#%%\n"
    }
   },
   "outputs": [
    {
     "data": {
      "text/plain": [
       "tensor([[ 633,    0],\n",
       "        [1862,    0],\n",
       "        [2582,    0],\n",
       "        [   2,    1],\n",
       "        [ 652,    1],\n",
       "        [ 654,    1],\n",
       "        [   0,  633],\n",
       "        [1701,  633],\n",
       "        [1866,  633],\n",
       "        [   0, 1862],\n",
       "        [2582, 1862],\n",
       "        [1701, 1862],\n",
       "        [ 926, 1862],\n",
       "        [   0, 2582],\n",
       "        [1862, 2582],\n",
       "        [1166, 2582],\n",
       "        [   1,    2],\n",
       "        [ 332,    2],\n",
       "        [1454,    2],\n",
       "        [1666,    2],\n",
       "        [1986,    2],\n",
       "        [   1,  652],\n",
       "        [ 470,  652],\n",
       "        [   1,  654]])"
      ]
     },
     "execution_count": 12,
     "metadata": {},
     "output_type": "execute_result"
    }
   ],
   "source": [
    "# edges in the original graph involved in message passing:\n",
    "data.edge_index[:, adjs[-2].e_id].t()"
   ]
  },
  {
   "cell_type": "markdown",
   "metadata": {},
   "source": [
    "##### <u>Layer 1 (1-hop)</u>"
   ]
  },
  {
   "cell_type": "markdown",
   "metadata": {},
   "source": [
    "![title](pictures/layer_1.png)"
   ]
  },
  {
   "cell_type": "markdown",
   "metadata": {},
   "source": [
    "##### At layer 1 the goal is to update the state of target node"
   ]
  },
  {
   "cell_type": "code",
   "execution_count": 13,
   "metadata": {},
   "outputs": [
    {
     "name": "stdout",
     "output_type": "stream",
     "text": [
      "tensor([[ 2,  0],\n",
      "        [ 3,  0],\n",
      "        [ 4,  0],\n",
      "        [ 5,  1],\n",
      "        [ 6,  1],\n",
      "        [ 7,  1],\n",
      "        [ 0,  2],\n",
      "        [ 8,  2],\n",
      "        [ 9,  2],\n",
      "        [ 0,  3],\n",
      "        [ 4,  3],\n",
      "        [ 8,  3],\n",
      "        [10,  3],\n",
      "        [ 0,  4],\n",
      "        [ 3,  4],\n",
      "        [11,  4],\n",
      "        [ 1,  5],\n",
      "        [12,  5],\n",
      "        [13,  5],\n",
      "        [14,  5],\n",
      "        [15,  5],\n",
      "        [ 1,  6],\n",
      "        [16,  6],\n",
      "        [ 1,  7]])\n"
     ]
    }
   ],
   "source": [
    "# bipartite subgraph structure at layer 2 (2-hop)\n",
    "print(adjs[-2].edge_index.t())"
   ]
  },
  {
   "cell_type": "code",
   "execution_count": 14,
   "metadata": {},
   "outputs": [
    {
     "name": "stderr",
     "output_type": "stream",
     "text": [
      "WARNING:root:The number of nodes in your data object can only be inferred by its edge indices, and hence may result in unexpected batch-wise behavior, e.g., in case there exists isolated nodes. Please consider explicitly setting the number of nodes for this data object by assigning it to data.num_nodes.\n"
     ]
    },
    {
     "data": {
      "image/png": "[encoded data removed]",
      "text/plain": [
       "<Figure size 432x288 with 1 Axes>"
      ]
     },
     "metadata": {},
     "output_type": "display_data"
    }
   ],
   "source": [
    "G = to_networkx(Data(edge_index=adjs[-1].edge_index))\n",
    "nx.draw_networkx(G)"
   ]
  },
  {
   "cell_type": "code",
   "execution_count": 15,
   "metadata": {
    "pycharm": {
     "name": "#%%\n"
    }
   },
   "outputs": [
    {
     "data": {
      "text/plain": [
       "tensor([[ 633,    0],\n",
       "        [1862,    0],\n",
       "        [2582,    0],\n",
       "        [   2,    1],\n",
       "        [ 652,    1],\n",
       "        [ 654,    1]])"
      ]
     },
     "execution_count": 15,
     "metadata": {},
     "output_type": "execute_result"
    }
   ],
   "source": [
    "# edges in the original graph involved in message passing:\n",
    "data.edge_index[:, adjs[-1].e_id].t()"
   ]
  },
  {
   "cell_type": "markdown",
   "metadata": {
    "pycharm": {
     "name": "#%%\n"
    }
   },
   "source": [
    "#### As we can see, all 1-hop edges ( $[633, 0]$, ... , $[2582, 0]$,  $[2, 1]$, ..., $[654, 1]$ ) are also included in 2-hop calculation."
   ]
  },
  {
   "cell_type": "markdown",
   "metadata": {
    "pycharm": {
     "name": "#%%\n"
    }
   },
   "source": [
    "### <u><font color='Red'> Training the model</font></u>"
   ]
  },
  {
   "cell_type": "markdown",
   "metadata": {},
   "source": [
    "#### The model is heavily based on [PyTorch Geometric examples](https://github.com/rusty1s/pytorch_geometric/tree/master/examples)"
   ]
  },
  {
   "cell_type": "code",
   "execution_count": 16,
   "metadata": {},
   "outputs": [
    {
     "data": {
      "text/plain": [
       "Data(edge_index=[2, 10556], test_mask=[2708], train_mask=[2708], val_mask=[2708], x=[2708, 1433], y=[2708])"
      ]
     },
     "execution_count": 16,
     "metadata": {},
     "output_type": "execute_result"
    }
   ],
   "source": [
    "data"
   ]
  },
  {
   "cell_type": "code",
   "execution_count": 17,
   "metadata": {},
   "outputs": [
    {
     "data": {
      "text/plain": [
       "1433"
      ]
     },
     "execution_count": 17,
     "metadata": {},
     "output_type": "execute_result"
    }
   ],
   "source": [
    "data.num_features"
   ]
  },
  {
   "cell_type": "markdown",
   "metadata": {},
   "source": [
    "#### Define Dataloaders"
   ]
  },
  {
   "cell_type": "code",
   "execution_count": 18,
   "metadata": {},
   "outputs": [],
   "source": [
    "train_idx = torch.where(data.train_mask)[0]\n",
    "val_idx = torch.where(data.val_mask)[0]\n",
    "test_idx = torch.where(data.test_mask)[0]\n",
    "\n",
    "\n",
    "train_loader = NeighborSampler(data.edge_index,\n",
    "                               node_idx=train_idx,\n",
    "                               sizes=[-1, -1],\n",
    "                               batch_size=512,\n",
    "                               shuffle=True,\n",
    "                               num_workers=0)\n",
    "\n",
    "subgraph_loader = NeighborSampler(data.edge_index,\n",
    "                                  node_idx=None,\n",
    "                                  sizes=[-1],\n",
    "                                  batch_size=1024,\n",
    "                                  shuffle=False,\n",
    "                                  num_workers=0)"
   ]
  },
  {
   "cell_type": "markdown",
   "metadata": {},
   "source": [
    "#### Class for Graph Attention Model"
   ]
  },
  {
   "cell_type": "markdown",
   "metadata": {},
   "source": [
    "* **forward** <br> For each layer performs <font color='Red'>**Message Passing**</font> using bipartite graph structures obtained from DataLoader. <br> During *training phase* for each batch of nodes all layers are applied sequentially: **batch iterator** $\\longrightarrow $ **layers iterator**. In other words, we compute final states for each batch and then iterate to other batch.\n",
    "* **inference** <br> Inference of the model on the whole graph. <br> During *inference phase* we perform message passing on the whole graph for each layer: **layers iterator** $\\longrightarrow $ **batch iterator**."
   ]
  },
  {
   "cell_type": "code",
   "execution_count": 19,
   "metadata": {},
   "outputs": [],
   "source": [
    "class GAT(torch.nn.Module):\n",
    "    def __init__(self,\n",
    "                 in_channels,\n",
    "                 hidden_channels,\n",
    "                 out_channels,\n",
    "                 num_layers,  # num_classes\n",
    "                 heads):\n",
    "        \n",
    "        super(GAT, self).__init__()\n",
    "\n",
    "        self.num_layers = num_layers\n",
    "\n",
    "        self.convs = torch.nn.ModuleList()\n",
    "        self.convs.append(GATConv(data.num_features,\n",
    "                                  hidden_channels,\n",
    "                                  heads)\n",
    "                         )\n",
    "        \n",
    "        for _ in range(num_layers - 2):\n",
    "            self.convs.append(GATConv(heads * hidden_channels,\n",
    "                                      hidden_channels,\n",
    "                                      heads)\n",
    "                             )\n",
    "            \n",
    "        self.convs.append(GATConv(heads * hidden_channels,\n",
    "                                  out_channels,\n",
    "                                  heads,\n",
    "                                  concat=False)\n",
    "                         )\n",
    "\n",
    "        self.skips = torch.nn.ModuleList()\n",
    "        self.skips.append(nn.Linear(data.num_features,\n",
    "                              hidden_channels * heads)\n",
    "                         )\n",
    "        \n",
    "        for _ in range(num_layers - 2):\n",
    "            self.skips.append(nn.Linear(hidden_channels * heads,\n",
    "                                  hidden_channels * heads)\n",
    "                             )\n",
    "            \n",
    "        self.skips.append(nn.Linear(hidden_channels * heads,\n",
    "                              out_channels)\n",
    "                         )\n",
    "\n",
    "    def reset_parameters(self):\n",
    "        for conv in self.convs:\n",
    "            conv.reset_parameters()\n",
    "        for skip in self.skips:\n",
    "            skip.reset_parameters()\n",
    "\n",
    "    def forward(self, x, adjs):\n",
    "        for i, (edge_index, _, size) in enumerate(adjs):\n",
    "            x_target = x[:size[1]]  # Target nodes are always placed first.\n",
    "            x = self.convs[i]((x, x_target), edge_index)\n",
    "            x = x + self.skips[i](x_target)\n",
    "            if i != self.num_layers - 1:\n",
    "                x = F.elu(x)\n",
    "                x = F.dropout(x, p=0.5, training=self.training)\n",
    "        return x.log_softmax(dim=-1)\n",
    "\n",
    "    def inference(self, x_all):\n",
    "\n",
    "        total_edges = 0\n",
    "        for i in range(self.num_layers):\n",
    "            xs = []\n",
    "            for batch_size, n_id, adj in subgraph_loader:\n",
    "                edge_index, _, size = adj.to(device)\n",
    "                total_edges += edge_index.size(1)\n",
    "                x = x_all[n_id].to(device)\n",
    "                x_target = x[:size[1]]\n",
    "                x = self.convs[i]((x, x_target), edge_index)\n",
    "                x = x + self.skips[i](x_target)\n",
    "\n",
    "                if i != self.num_layers - 1:\n",
    "                    x = F.elu(x)\n",
    "                xs.append(x) #x.cpu()\n",
    "\n",
    "            x_all = torch.cat(xs, dim=0)\n",
    "\n",
    "        return x_all"
   ]
  },
  {
   "cell_type": "markdown",
   "metadata": {},
   "source": [
    "#### Initialize  GAT model"
   ]
  },
  {
   "cell_type": "code",
   "execution_count": 20,
   "metadata": {},
   "outputs": [],
   "source": [
    "device = torch.device('cuda' if torch.cuda.is_available() else 'cpu')\n",
    "\n",
    "model = GAT(in_channels=data.num_features,\n",
    "            hidden_channels=128,\n",
    "            out_channels=7,  # num_classes\n",
    "            num_layers=2,\n",
    "            heads=4)\n",
    "\n",
    "model = model.to(device)\n",
    "\n",
    "x = data.x.to(device)\n",
    "y = data.y.squeeze().to(device)"
   ]
  },
  {
   "cell_type": "code",
   "execution_count": 21,
   "metadata": {},
   "outputs": [
    {
     "data": {
      "text/plain": [
       "1487430"
      ]
     },
     "execution_count": 21,
     "metadata": {},
     "output_type": "execute_result"
    }
   ],
   "source": [
    "#number of parameters\n",
    "pytorch_total_params = sum(p.numel() for p in model.parameters())\n",
    "pytorch_total_params"
   ]
  },
  {
   "cell_type": "markdown",
   "metadata": {},
   "source": [
    "#### Training Loop"
   ]
  },
  {
   "cell_type": "code",
   "execution_count": 22,
   "metadata": {},
   "outputs": [],
   "source": [
    "def train(epoch):\n",
    "    model.train()  # Sets the modules in training mode. Affects dropouts, batchnorms, ...\n",
    "    total_loss = total_correct = 0\n",
    "    for batch_size, n_id, adjs in train_loader:\n",
    "        # `adjs` holds a list of `(edge_index, e_id, size)` tuples.\n",
    "        adjs = [adj.to(device) for adj in adjs]\n",
    "\n",
    "        optimizer.zero_grad()\n",
    "        out = model(x[n_id], adjs) # [batch_size, num_classes]\n",
    "        \n",
    "        # n_id - all nodes (targets + others) involved in message passing\n",
    "        loss = F.nll_loss(out, y[n_id[:batch_size]])  # targets are first\n",
    "        \n",
    "        loss.backward()\n",
    "        optimizer.step()\n",
    "\n",
    "        total_loss += float(loss)\n",
    "        \n",
    "        #number of correct predictions (probability cutoff = 50% <=> class with highest probability)\n",
    "        total_correct += int((out.argmax(dim=-1) == y[n_id[:batch_size]]).sum())\n",
    "        \n",
    "    loss = total_loss / len(train_loader)\n",
    "    approx_acc = total_correct / train_idx.size(0)\n",
    "\n",
    "    return loss, approx_acc"
   ]
  },
  {
   "cell_type": "markdown",
   "metadata": {},
   "source": [
    "#### @torch.no_grad() \n",
    "is a decorator for [disabling gradient calculation](https://pytorch.org/docs/stable/generated/torch.no_grad.html).\n",
    "Same meaning as **with torch.no_grad():** statement."
   ]
  },
  {
   "cell_type": "code",
   "execution_count": 23,
   "metadata": {},
   "outputs": [],
   "source": [
    "@torch.no_grad()\n",
    "def validate():\n",
    "    model.eval()  # Sets the modules in evaluation mode. Affects dropouts, batchnorms, ...\n",
    "\n",
    "    out = model.inference(x) # [num_nodes, num_classes] - whole graph\n",
    "  \n",
    "    train_loss = F.nll_loss(out[train_idx].log_softmax(dim=-1), y[train_idx])\n",
    "    val_loss = F.nll_loss(out[val_idx].log_softmax(dim=-1), y[val_idx])\n",
    "    test_loss = F.nll_loss(out[test_idx].log_softmax(dim=-1), y[test_idx])\n",
    "    \n",
    "    \n",
    "    train_acc = int((out[train_idx].argmax(dim=-1) == y[train_idx]).sum()) / len(y[train_idx])\n",
    "    val_acc = int((out[val_idx].argmax(dim=-1) == y[val_idx]).sum()) / len(y[val_idx])\n",
    "    test_acc = int((out[test_idx].argmax(dim=-1) == y[test_idx]).sum()) / len(y[test_idx])\n",
    "    \n",
    "    loss_dict = {'train_loss': train_loss,\n",
    "               'val_loss': val_loss,\n",
    "               'test_loss:': test_loss}\n",
    "    \n",
    "    acc_dict = {'train_acc': train_acc,\n",
    "               'val_acc': val_acc,\n",
    "               'test_acc:': test_acc}\n",
    "    \n",
    "    return loss_dict, acc_dict"
   ]
  },
  {
   "cell_type": "code",
   "execution_count": 24,
   "metadata": {},
   "outputs": [
    {
     "name": "stdout",
     "output_type": "stream",
     "text": [
      "Epoch 10, Loss: 1.7359, Approx. Acc. Train: 0.8000\n",
      "Validation on epoch 10:\n",
      "train_loss: 1.72, val_loss: 1.84, test_loss:: 1.84\n",
      "train_acc: 0.87, val_acc: 0.54, test_acc:: 0.57\n",
      "\n",
      "Epoch 20, Loss: 1.5295, Approx. Acc. Train: 0.9714\n",
      "Validation on epoch 20:\n",
      "train_loss: 1.52, val_loss: 1.75, test_loss:: 1.75\n",
      "train_acc: 0.99, val_acc: 0.69, test_acc:: 0.71\n",
      "\n",
      "Epoch 30, Loss: 1.3409, Approx. Acc. Train: 0.9929\n",
      "Validation on epoch 30:\n",
      "train_loss: 1.32, val_loss: 1.66, test_loss:: 1.65\n",
      "train_acc: 0.99, val_acc: 0.73, test_acc:: 0.75\n",
      "\n",
      "Epoch 40, Loss: 1.1576, Approx. Acc. Train: 0.9929\n",
      "Validation on epoch 40:\n",
      "train_loss: 1.14, val_loss: 1.57, test_loss:: 1.56\n",
      "train_acc: 0.99, val_acc: 0.75, test_acc:: 0.77\n",
      "\n",
      "Epoch 50, Loss: 0.9879, Approx. Acc. Train: 0.9929\n",
      "Validation on epoch 50:\n",
      "train_loss: 0.96, val_loss: 1.49, test_loss:: 1.47\n",
      "train_acc: 0.99, val_acc: 0.76, test_acc:: 0.78\n",
      "\n",
      "Epoch 60, Loss: 0.8214, Approx. Acc. Train: 1.0000\n",
      "Validation on epoch 60:\n",
      "train_loss: 0.80, val_loss: 1.40, test_loss:: 1.38\n",
      "train_acc: 0.99, val_acc: 0.77, test_acc:: 0.78\n",
      "\n",
      "Epoch 70, Loss: 0.6766, Approx. Acc. Train: 1.0000\n",
      "Validation on epoch 70:\n",
      "train_loss: 0.66, val_loss: 1.32, test_loss:: 1.30\n",
      "train_acc: 1.00, val_acc: 0.76, test_acc:: 0.79\n",
      "\n",
      "Epoch 80, Loss: 0.5505, Approx. Acc. Train: 1.0000\n",
      "Validation on epoch 80:\n",
      "train_loss: 0.54, val_loss: 1.24, test_loss:: 1.22\n",
      "train_acc: 1.00, val_acc: 0.77, test_acc:: 0.79\n",
      "\n",
      "Epoch 90, Loss: 0.4537, Approx. Acc. Train: 1.0000\n",
      "Validation on epoch 90:\n",
      "train_loss: 0.44, val_loss: 1.17, test_loss:: 1.15\n",
      "train_acc: 1.00, val_acc: 0.76, test_acc:: 0.79\n",
      "\n",
      "Epoch 100, Loss: 0.3661, Approx. Acc. Train: 1.0000\n",
      "Validation on epoch 100:\n",
      "train_loss: 0.36, val_loss: 1.12, test_loss:: 1.09\n",
      "train_acc: 1.00, val_acc: 0.76, test_acc:: 0.79\n",
      "\n"
     ]
    }
   ],
   "source": [
    "model.reset_parameters()\n",
    "optimizer = torch.optim.Adam(model.parameters(), lr=0.0001)\n",
    "\n",
    "best_val_loss = np.inf\n",
    "\n",
    "VERBOSE = 10\n",
    "for epoch in range(1, 101):\n",
    "    loss, acc = train(epoch)\n",
    "    loss_dict, val_dict = validate()\n",
    "    \n",
    "    if epoch % VERBOSE == 0:\n",
    "        print(f'Epoch {epoch:02d}, Loss: {loss:.4f}, Approx. Acc. Train: {acc:.4f}')\n",
    "        print(f'Validation on epoch {epoch:02d}:')\n",
    "        print(', '.join([f'{name}: {value:.2f}' for name, value in loss_dict.items()]))\n",
    "        print(', '.join([f'{name}: {value:.2f}' for name, value in val_dict.items()]), end='\\n\\n')\n",
    "\n",
    "    val_loss = loss_dict['val_loss']\n",
    "    if val_loss < best_val_loss:\n",
    "        best_val_loss = val_loss\n",
    "        torch.save(model.state_dict(), 'GAT_model.pt')"
   ]
  }
 ],
 "metadata": {
  "kernelspec": {
   "display_name": "Python 3",
   "language": "python",
   "name": "python3"
  },
  "language_info": {
   "codemirror_mode": {
    "name": "ipython",
    "version": 3
   },
   "file_extension": ".py",
   "mimetype": "text/x-python",
   "name": "python",
   "nbconvert_exporter": "python",
   "pygments_lexer": "ipython3",
   "version": "3.8.5"
  }
 },
 "nbformat": 4,
 "nbformat_minor": 1
}